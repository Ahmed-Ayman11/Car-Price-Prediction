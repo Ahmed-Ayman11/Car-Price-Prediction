{
 "cells": [
  {
   "cell_type": "code",
   "execution_count": null,
   "metadata": {},
   "outputs": [],
   "source": [
    "import pandas as pd\n",
    "import numpy as np\n",
    "import plotly.express as px"
   ]
  },
  {
   "cell_type": "code",
   "execution_count": null,
   "metadata": {},
   "outputs": [],
   "source": [
    "df_eda = pd.read_csv('car_prices_cleaned.csv')"
   ]
  },
  {
   "cell_type": "code",
   "execution_count": null,
   "metadata": {},
   "outputs": [],
   "source": [
    "categorical_columns = ['brand','body','transmission','state','color','interior']\n",
    "\n",
    "numerical_columns = ['manifacture_year','condition','milage','sellingprice','sellYear','sellMonth']"
   ]
  },
  {
   "cell_type": "code",
   "execution_count": null,
   "metadata": {},
   "outputs": [],
   "source": [
    "for num in numerical_columns:\n",
    "    px.box(df_eda, x=num, template= 'plotly_dark').show()"
   ]
  },
  {
   "cell_type": "code",
   "execution_count": null,
   "metadata": {},
   "outputs": [],
   "source": [
    "for cat in categorical_columns:\n",
    "    px.histogram(df_eda, x=cat, template= 'plotly_dark').show()"
   ]
  },
  {
   "cell_type": "code",
   "execution_count": null,
   "metadata": {},
   "outputs": [],
   "source": [
    "# check number of selling cars for top 10 brands \n",
    "top_10 = df_eda.groupby('brand')['vin'].count().reset_index().sort_values(by = 'vin' , ascending=False).head(10)"
   ]
  },
  {
   "cell_type": "code",
   "execution_count": null,
   "metadata": {},
   "outputs": [],
   "source": [
    "px.bar(top_10 , x = 'brand' , y = 'vin', labels={'name':'Brand' , 'vin':'Number of cars'} , color = 'brand' , title = 'Number of top 10 cars each brand', template = 'plotly_dark' , text_auto = True)"
   ]
  },
  {
   "cell_type": "markdown",
   "metadata": {},
   "source": [
    "* ### Ford is the most selling car"
   ]
  },
  {
   "cell_type": "code",
   "execution_count": null,
   "metadata": {},
   "outputs": [],
   "source": [
    "# most selling car for each months\n",
    "months = df_eda.groupby('sellMonth')['vin'].count().reset_index()"
   ]
  },
  {
   "cell_type": "code",
   "execution_count": null,
   "metadata": {},
   "outputs": [],
   "source": [
    "px.bar(months , x = 'sellMonth' , y = 'vin', labels={'sellMonths':'Months' , 'vin':'Number of cars'} , color = 'sellMonth' , title = 'Number of sold cars each Months', template = 'plotly_dark', text_auto = True)"
   ]
  },
  {
   "cell_type": "markdown",
   "metadata": {},
   "source": [
    "* ### Fabuary is the most months have selling cars"
   ]
  },
  {
   "cell_type": "code",
   "execution_count": null,
   "metadata": {},
   "outputs": [],
   "source": [
    "transmission = df_eda['transmission'].value_counts().reset_index().sort_values(by = 'count' , ascending = False)"
   ]
  },
  {
   "cell_type": "code",
   "execution_count": null,
   "metadata": {},
   "outputs": [],
   "source": [
    "px.pie(transmission , values = 'count' , names = 'transmission' , title = 'Most transmission', hole = 0.3, template = 'plotly_dark')"
   ]
  },
  {
   "cell_type": "markdown",
   "metadata": {},
   "source": [
    "* ### Most of the cars are automatic transmission"
   ]
  },
  {
   "cell_type": "code",
   "execution_count": null,
   "metadata": {},
   "outputs": [],
   "source": [
    "# Group by model and calculate the average selling price\n",
    "average_price = df_eda.groupby('brand')['sellingprice'].mean().reset_index()\n",
    "\n",
    "# Calculate the number of cars sold for each model\n",
    "model_counts = df_eda['brand'].value_counts().reset_index()\n",
    "model_counts.columns = ['brand', 'count']\n",
    "\n",
    "merged_data = pd.merge(average_price, model_counts, on='brand')\n",
    "\n",
    "top_10_models = merged_data.sort_values('count', ascending=False).head(10)\n"
   ]
  },
  {
   "cell_type": "code",
   "execution_count": null,
   "metadata": {},
   "outputs": [],
   "source": [
    "px.bar(top_10_models, x='brand', y='sellingprice', title='Average Selling Price of Top 10 Selling Cars', labels={'sellingprice': 'Average Selling Price', 'brand': 'Car Model'}, template='plotly_dark', color='brand')\n"
   ]
  },
  {
   "cell_type": "markdown",
   "metadata": {},
   "source": [
    "* ### BMW is very expensive car "
   ]
  },
  {
   "cell_type": "code",
   "execution_count": null,
   "metadata": {},
   "outputs": [],
   "source": [
    "# Group by state and brand to count the number of cars sold\n",
    "state_brand_counts = df_eda.groupby(['state', 'brand']).size().reset_index(name='count')\n",
    "\n",
    "# Find the most selling brand for each state\n",
    "most_selling_brands = state_brand_counts.loc[state_brand_counts.groupby('state')['count'].idxmax()]\n"
   ]
  },
  {
   "cell_type": "code",
   "execution_count": null,
   "metadata": {},
   "outputs": [],
   "source": [
    "px.bar(most_selling_brands, x='state', y='count', color='brand', title='Most Selling Car Brand in Each State', labels={'count': 'Number of Cars Sold', 'state': 'State'}, text='brand', template='plotly_dark')\n"
   ]
  },
  {
   "cell_type": "markdown",
   "metadata": {},
   "source": [
    "* ### It is true that most Americans favor Ford."
   ]
  },
  {
   "cell_type": "code",
   "execution_count": null,
   "metadata": {},
   "outputs": [],
   "source": [
    "px.scatter(df_eda, x='milage', y='sellingprice', title='Correlation between Mileage and Selling Price', labels={'milage': 'Mileage (KM)', 'sellingprice': 'Selling Price (USD)'}, template='plotly_dark', color='condition')"
   ]
  },
  {
   "cell_type": "markdown",
   "metadata": {},
   "source": [
    "* #### A car's selling price goes up with less miles driven, and it is more likely to find a well-kept vehicle.\n"
   ]
  },
  {
   "cell_type": "code",
   "execution_count": null,
   "metadata": {},
   "outputs": [],
   "source": [
    "# Count the number of cars sold for each body type\n",
    "body_counts = df_eda['body'].value_counts().reset_index()\n",
    "body_counts.columns = ['body', 'count']\n",
    "top_10_bodies = body_counts.head(10)\n"
   ]
  },
  {
   "cell_type": "code",
   "execution_count": null,
   "metadata": {},
   "outputs": [],
   "source": [
    "px.bar(top_10_bodies, x='body', y='count', title='Top 10 Selling Car Body Types', labels={'body': 'Car Body Type', 'count': 'Number of Cars Sold'}, color='body', template='plotly_dark')\n"
   ]
  },
  {
   "cell_type": "markdown",
   "metadata": {},
   "source": [
    "* ### OH! Americans really love sedans."
   ]
  },
  {
   "cell_type": "code",
   "execution_count": null,
   "metadata": {},
   "outputs": [],
   "source": [
    "px.scatter(df_eda,x='body', y='sellingprice', title='Selling Price vs. Car Body Type', labels={'body': 'Car Body Type', 'sellingprice': 'Selling Price (USD)'}, category_orders={'body': df_eda['body'].unique()}, template='plotly_dark')\n"
   ]
  },
  {
   "cell_type": "markdown",
   "metadata": {},
   "source": [
    "* ##### The blind man can clearly see that the most valuable car types are SUVs, sedans, convertibles, and coupes."
   ]
  },
  {
   "cell_type": "code",
   "execution_count": null,
   "metadata": {},
   "outputs": [],
   "source": [
    "# Count the number of cars sold by each seller\n",
    "seller_counts = df_eda['seller'].value_counts().reset_index()\n",
    "seller_counts.columns = ['seller', 'count']\n",
    "\n",
    "top_10_sellers = seller_counts.head(10)\n"
   ]
  },
  {
   "cell_type": "code",
   "execution_count": null,
   "metadata": {},
   "outputs": [],
   "source": [
    "px.bar(top_10_sellers, x='seller',y='count', title='Top 10 Car Sellers in US', labels={'seller': 'Car Seller', 'count': 'Number of Cars Sold'}, color='count', template='plotly_dark')\n"
   ]
  },
  {
   "cell_type": "code",
   "execution_count": null,
   "metadata": {},
   "outputs": [],
   "source": [
    "year_counts = df_eda['sellYear'].value_counts().reset_index()\n",
    "year_counts.columns = ['year', 'count']"
   ]
  },
  {
   "cell_type": "code",
   "execution_count": null,
   "metadata": {},
   "outputs": [],
   "source": [
    "px.bar(year_counts, x='year', y='count', title='Number of Cars Sold in 2014 vs 2015', labels={'year': 'Year', 'count': 'Number of Cars Sold'}, color='count', template = 'plotly_dark') \n"
   ]
  },
  {
   "cell_type": "markdown",
   "metadata": {},
   "source": [
    "* ### WOW 2015 was very fruitful year."
   ]
  },
  {
   "cell_type": "code",
   "execution_count": null,
   "metadata": {},
   "outputs": [],
   "source": [
    "df_eda['manifacture_year'].unique()"
   ]
  },
  {
   "cell_type": "code",
   "execution_count": null,
   "metadata": {},
   "outputs": [],
   "source": [
    "df_eda['year_cat'] = pd.cut(df_eda['manifacture_year'], bins=[1990, 1996, 2001, 2006,2011,2016], labels=['1990 - 1995', '1996 - 2000', '2001 - 2005', '2006 - 2010', '2011 - 2015'])"
   ]
  },
  {
   "cell_type": "code",
   "execution_count": null,
   "metadata": {},
   "outputs": [],
   "source": [
    "years_cat = df_eda.groupby(['year_cat'])['vin'].count().reset_index().sort_values(by = 'year_cat' , ascending = False)"
   ]
  },
  {
   "cell_type": "code",
   "execution_count": null,
   "metadata": {},
   "outputs": [],
   "source": [
    "px.line(years_cat,x='year_cat', y='vin', labels={'vin':'Number of cars', 'year_cat':'Manifacture Years'},template = 'plotly_dark')"
   ]
  },
  {
   "cell_type": "markdown",
   "metadata": {},
   "source": [
    "* ### We can notice that newer cars are sold more than older cars."
   ]
  }
 ],
 "metadata": {
  "kernelspec": {
   "display_name": "machine_learning",
   "language": "python",
   "name": "python3"
  },
  "language_info": {
   "codemirror_mode": {
    "name": "ipython",
    "version": 3
   },
   "file_extension": ".py",
   "mimetype": "text/x-python",
   "name": "python",
   "nbconvert_exporter": "python",
   "pygments_lexer": "ipython3",
   "version": "3.12.3"
  }
 },
 "nbformat": 4,
 "nbformat_minor": 2
}
